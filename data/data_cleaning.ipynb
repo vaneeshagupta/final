{
 "cells": [
  {
   "cell_type": "code",
   "execution_count": null,
   "metadata": {},
   "outputs": [],
   "source": [
    "# Import dependencies\n",
    "from dash import Dash, html, dcc, Input, Output \n",
    "import pandas as pd\n",
    "import plotly.express as px\n",
    "import dash"
   ]
  },
  {
   "cell_type": "code",
   "execution_count": null,
   "metadata": {},
   "outputs": [],
   "source": [
    "#Cleaning and preparing data, making it tidy\n",
    "import pandas as pd\n",
    "df = pd.read_csv('original_data.csv')\n",
    "#printing out the first couple rows to preview the data\n",
    "df.head()\n",
    "#checking for missing value\n",
    "df.isnull().sum()\n",
    "\n",
    "#Cleaning data set by making fiction and non-fiction variables\n",
    "df['Fiction'] = df['Genre'].apply(lambda x: 1 if x == 'Fiction' else 0)\n",
    "df['Non Fiction'] = df['Genre'].apply(lambda x: 1 if x == 'Non Fiction' else 0)\n",
    "df.drop('Genre', axis=1, inplace=True)\n",
    "\n",
    "#removing any duplicate entries for books (where there were bestsellers in multiple years), keeping only the initial year it was a bestseller\n",
    "df.drop_duplicates(subset='Name', inplace=True)\n",
    "\n",
    "df.to_csv('clean_data.csv', index=False)\n",
    "df2 = pd.read_csv('clean_data.csv')\n",
    "df = df2\n",
    "\n",
    "\n",
    "# Load the CSS stylesheet\n",
    "stylesheets = ['https://codepen.io/chriddyp/pen/bWLwgP.css']\n"
   ]
  }
 ],
 "metadata": {
  "kernelspec": {
   "display_name": "ds4003",
   "language": "python",
   "name": "python3"
  },
  "language_info": {
   "codemirror_mode": {
    "name": "ipython",
    "version": 3
   },
   "file_extension": ".py",
   "mimetype": "text/x-python",
   "name": "python",
   "nbconvert_exporter": "python",
   "pygments_lexer": "ipython3",
   "version": "3.8.18"
  }
 },
 "nbformat": 4,
 "nbformat_minor": 2
}
